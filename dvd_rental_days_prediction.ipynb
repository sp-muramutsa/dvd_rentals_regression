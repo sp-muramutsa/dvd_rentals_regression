{
  "cells": [
    {
      "cell_type": "markdown",
      "metadata": {},
      "source": [
        "# Predicting How Many Days a Customer Will Rent a DVD Using Machine Learning — Regression\n",
        "\n",
        "<img src=\"https://www.pressenterprise.com/wp-content/uploads/migration/nrf/nrfumn-b88430219z.120150713111123000gt4aq630.10.jpg?w=1200\" alt=\"drawing\" width=\"1400\"/>\n",
        "\n",
        "This project aims to figure out how many days a customer will rent a DVD for based on some features. We are going to try out some regression models which will help predict the number of days a customer will rent a DVD using machine learning techniques. Specifically, we are using **regression** machine learning models.\n",
        "\n",
        "## Data\n",
        "\n",
        "The data is provided in the CSV file `rental_info.csv`. It has the following features:\n",
        "\n",
        "- `rental_date`: The date (and time) the customer rents the DVD.\n",
        "- `return_date`: The date (and time) the customer returns the DVD.\n",
        "- `amount`: The amount paid by the customer for renting the DVD.\n",
        "- `amount_2`: The square of `amount`.\n",
        "- `rental_rate`: The rate at which the DVD is rented.\n",
        "- `rental_rate_2`: The square of `rental_rate`.\n",
        "- `release_year`: The year the movie being rented was released.\n",
        "- `length`: Length of the movie being rented, in minutes.\n",
        "- `length_2`: The square of `length`.\n",
        "- `replacement_cost`: The amount it would cost the company to replace the DVD.\n",
        "- `special_features`: Any special features, such as trailers or deleted scenes.\n",
        "- `NC-17`, `PG`, `PG-13`, `R`: Dummy variables indicating the movie's rating. Each is 1 if the movie has that rating, 0 otherwise. (One category is dropped as the reference.)\n"
      ]
    }
  ],
  "metadata": {
    "kernelspec": {
      "display_name": "Python 3",
      "language": "python",
      "name": "python3"
    },
    "language_info": {
      "codemirror_mode": {
        "name": "ipython",
        "version": 3
      },
      "file_extension": ".py",
      "mimetype": "text/x-python",
      "name": "python",
      "nbconvert_exporter": "python",
      "pygments_lexer": "ipython3",
      "version": "3.9.12"
    }
  },
  "nbformat": 4,
  "nbformat_minor": 5
}
